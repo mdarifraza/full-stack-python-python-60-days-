{
  "cells": [
    {
      "cell_type": "markdown",
      "source": [
        "VARIABLES:-\n",
        "A variable is an identifier whose values are changing during program execution"
      ],
      "metadata": {
        "id": "XmKVT8UUipkg"
      },
      "id": "XmKVT8UUipkg"
    },
    {
      "cell_type": "markdown",
      "source": [
        "RULES FOR USING VARIABLES/IDENTIFIERS IN PYTHON PROGRAMMING:-"
      ],
      "metadata": {
        "id": "q3wC-bT6jKYk"
      },
      "id": "q3wC-bT6jKYk"
    },
    {
      "cell_type": "code",
      "source": [
        "#RULE 1:-THE VARIABLE NAME IS A COMBINATION OF ALPHABETS,DIGITS,SPECIAL SYMBOL UNDERSCORE\n",
        "name = \"Arif\"\n",
        "name1 = \"Raza\"\n",
        "_name = \"Data\"\n",
        "_name_123 = \"Science\"\n",
        "first_name = \"Md\"\n",
        "total_marks_2025 = 95\n"
      ],
      "metadata": {
        "id": "QYU8Rg8Fi66Q"
      },
      "id": "QYU8Rg8Fi66Q",
      "execution_count": 2,
      "outputs": []
    },
    {
      "cell_type": "code",
      "source": [
        "#RULE 2:- THE FIRST LETTER OF VARIBLE MUST STARTS EITHER WITH ALPHABETS OR UNDERDCORE\n",
        "sal=34\n",
        "123sal=56     #invalid\n",
        "$sal=45       #invalid\n",
        "sal1=34\n",
        "-sal_=46      #invalid\n",
        "__a=56\n",
        "_sal_=56\n",
        "___=56\n",
        "__a=56\n",
        "\n",
        "\n"
      ],
      "metadata": {
        "id": "-qfEwpFLkEMS",
        "outputId": "a53259cc-e63c-4974-e944-855c03e68762",
        "colab": {
          "base_uri": "https://localhost:8080/",
          "height": 106
        }
      },
      "id": "-qfEwpFLkEMS",
      "execution_count": 4,
      "outputs": [
        {
          "output_type": "error",
          "ename": "SyntaxError",
          "evalue": "invalid decimal literal (ipython-input-2821463456.py, line 3)",
          "traceback": [
            "\u001b[0;36m  File \u001b[0;32m\"/tmp/ipython-input-2821463456.py\"\u001b[0;36m, line \u001b[0;32m3\u001b[0m\n\u001b[0;31m    123sal=56     #invalid\u001b[0m\n\u001b[0m      ^\u001b[0m\n\u001b[0;31mSyntaxError\u001b[0m\u001b[0;31m:\u001b[0m invalid decimal literal\n"
          ]
        }
      ]
    },
    {
      "cell_type": "code",
      "source": [
        "#RULE 3:-WITHIN  THE VARIABLE NAME,SPECIAL SYMBOLS,ARE NOT ALLOWED EXCEPT UNDERSCORE(_)\n",
        "emp sal=56            #invalid\n",
        "emp $ sal=56          #invalid\n",
        "emp-sal=56            #invalid\n",
        "emp_sal=56\n",
        "emp_sal$ibm=67        #invalid\n",
        "emp_sal_ibm=67"
      ],
      "metadata": {
        "id": "Ai7tC1c-lTtA",
        "outputId": "fab6f06d-05c9-482c-afb3-55a708689fc6",
        "colab": {
          "base_uri": "https://localhost:8080/",
          "height": 106
        }
      },
      "id": "Ai7tC1c-lTtA",
      "execution_count": 5,
      "outputs": [
        {
          "output_type": "error",
          "ename": "SyntaxError",
          "evalue": "invalid syntax (ipython-input-81130399.py, line 2)",
          "traceback": [
            "\u001b[0;36m  File \u001b[0;32m\"/tmp/ipython-input-81130399.py\"\u001b[0;36m, line \u001b[0;32m2\u001b[0m\n\u001b[0;31m    emp sal=56\u001b[0m\n\u001b[0m        ^\u001b[0m\n\u001b[0;31mSyntaxError\u001b[0m\u001b[0;31m:\u001b[0m invalid syntax\n"
          ]
        }
      ]
    },
    {
      "cell_type": "code",
      "source": [
        "#RULE 4:-WE SHOULD NOT KEYWORDS AS VARIABLES NAMES\n",
        "if=56     #invalid\n",
        "else=67   #invalid\n",
        "for=56    #invalid\n",
        "if1=56\n",
        "_else=56\n",
        "_for=67\n",
        "\n"
      ],
      "metadata": {
        "id": "Le8BSzjvmPaD"
      },
      "id": "Le8BSzjvmPaD",
      "execution_count": null,
      "outputs": []
    },
    {
      "cell_type": "code",
      "source": [
        "#RULE 5:-ALL THE VARIABLE NAMES ARE CASE SENSITIVR\n",
        "AGE=45\n",
        "age=99\n",
        "Age=97\n",
        "aGe=96\n",
        "print(AGE,age,Age,aGe)"
      ],
      "metadata": {
        "id": "5Y1sCEb_m2HG",
        "outputId": "286038ca-9ff9-4a5a-8ced-467b623517ba",
        "colab": {
          "base_uri": "https://localhost:8080/",
          "height": 0
        }
      },
      "id": "5Y1sCEb_m2HG",
      "execution_count": 6,
      "outputs": [
        {
          "output_type": "stream",
          "name": "stdout",
          "text": [
            "45 99 97 96\n"
          ]
        }
      ]
    }
  ],
  "metadata": {
    "kernelspec": {
      "display_name": "Python 3",
      "name": "python3"
    },
    "language_info": {
      "name": "python"
    },
    "required_libs": [],
    "colab": {
      "provenance": []
    }
  },
  "nbformat": 4,
  "nbformat_minor": 5
}